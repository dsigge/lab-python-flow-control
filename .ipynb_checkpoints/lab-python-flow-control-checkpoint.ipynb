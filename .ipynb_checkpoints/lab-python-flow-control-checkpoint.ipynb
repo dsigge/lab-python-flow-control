{
 "cells": [
  {
   "cell_type": "markdown",
   "id": "d3bfc191-8885-42ee-b0a0-bbab867c6f9f",
   "metadata": {
    "tags": []
   },
   "source": [
    "# Lab | Flow Control"
   ]
  },
  {
   "cell_type": "markdown",
   "id": "3851fcd1-cf98-4653-9c89-e003b7ec9400",
   "metadata": {},
   "source": [
    "## Exercise: Managing Customer Orders Optimized\n",
    "\n",
    "In the last lab, you were starting an online store that sells various products. To ensure smooth operations, you developed a program that manages customer orders and inventory.\n",
    "\n",
    "You did so without using flow control. Let's go a step further and improve this code.\n",
    "\n",
    "Follow the steps below to complete the exercise:\n",
    "\n",
    "1. Look at your code from the lab data structures, and improve repeated code with loops.\n",
    "\n",
    "2. Instead of asking the user to input the name of three products that a customer wants to order, do the following:\n",
    "    \n",
    "    a. Prompt the user to enter the name of a product that a customer wants to order.\n",
    "    \n",
    "    b. Add the product name to the \"customer_orders\" set.\n",
    "    \n",
    "    c. Ask the user if they want to add another product (yes/no).\n",
    "    \n",
    "    d. Continue the loop until the user does not want to add another product.\n",
    "\n",
    "3. Instead of updating the inventory by subtracting 1 from the quantity of each product, only do it for  the products that were ordered (those in \"customer_orders\")."
   ]
  },
  {
   "cell_type": "code",
   "execution_count": null,
   "id": "03d37c9b",
   "metadata": {},
   "outputs": [],
   "source": [
    "#week-1-day-2\n",
    "\n",
    "# Define the list of products\n",
    "products = [\"t-shirt\", \"mug\", \"hat\", \"book\", \"keychain\"]\n",
    "\n",
    "# Initialize an empty dictionary to store inventory\n",
    "inventory = {}\n",
    "\n",
    "# Loop to get the quantity of each product in inventory\n",
    "for product in products:\n",
    "    quantity = int(input(f\"Enter the quantity of '{product}' available in the inventory: \"))\n",
    "    inventory[product] = quantity\n",
    "\n",
    "# Print the updated inventory\n",
    "print(\"Inventory updated successfully!\")\n",
    "print(\"Inventory:\", inventory)\n",
    "\n",
    "# Initialize an empty set to store customer orders\n",
    "customer_orders = set()\n",
    "\n",
    "# Loop to prompt the user to enter products they want to order\n",
    "while True:\n",
    "    product_name = input(\"Enter the name of the product the customer wants to order: \")\n",
    "    customer_orders.add(product_name)\n",
    "    add_another = input(\"Do you want to add another product? (yes/no): \").lower()\n",
    "    if add_another != \"yes\":\n",
    "        break\n",
    "\n",
    "# Print the customer orders\n",
    "print(\"Customer orders:\", customer_orders)\n",
    "\n",
    "# Calculate order statistics\n",
    "total_products_ordered = len(customer_orders)\n",
    "percentage_ordered = total_products_ordered / len(products) * 100\n",
    "order_status = (total_products_ordered, percentage_ordered)\n",
    "\n",
    "# Print order statistics\n",
    "print(\"Order Statistics:\")\n",
    "print(\"Total Products Ordered:\", order_status[0])\n",
    "print(\"Percentage of Products Ordered: {:.2f}%\".format(order_status[1]))\n",
    "\n",
    "# Update inventory based on customer orders\n",
    "for product in customer_orders:\n",
    "    if product in inventory:  # Check if the product exists in inventory\n",
    "        inventory[product] -= 1  # Update the inventory for the ordered product\n",
    "\n",
    "# Print the updated inventory\n",
    "print(\"\\nUpdated Inventory:\")\n",
    "for product, quantity in inventory.items():\n",
    "    print(f\"{product}: {quantity}\")"
   ]
  }
 ],
 "metadata": {
  "kernelspec": {
   "display_name": "Python 3 (ipykernel)",
   "language": "python",
   "name": "python3"
  },
  "language_info": {
   "codemirror_mode": {
    "name": "ipython",
    "version": 3
   },
   "file_extension": ".py",
   "mimetype": "text/x-python",
   "name": "python",
   "nbconvert_exporter": "python",
   "pygments_lexer": "ipython3",
   "version": "3.11.7"
  }
 },
 "nbformat": 4,
 "nbformat_minor": 5
}
